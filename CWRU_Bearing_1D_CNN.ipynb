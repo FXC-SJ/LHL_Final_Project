{
 "cells": [
  {
   "cell_type": "code",
   "execution_count": 1,
   "id": "a20d1bd3",
   "metadata": {},
   "outputs": [],
   "source": [
    "import scipy.io\n",
    "import seaborn as sns\n",
    "import numpy as np\n",
    "import pandas as pd\n",
    "import os\n",
    "import matplotlib.pyplot as plt"
   ]
  },
  {
   "cell_type": "code",
   "execution_count": 2,
   "id": "41c292e8",
   "metadata": {},
   "outputs": [],
   "source": [
    "df = pd.read_csv('0hp_all_faults.csv')"
   ]
  },
  {
   "cell_type": "code",
   "execution_count": 3,
   "id": "25915106",
   "metadata": {},
   "outputs": [],
   "source": [
    "from sklearn.preprocessing import LabelEncoder\n",
    "from tensorflow.keras.utils import to_categorical\n",
    "\n",
    "win_len=784\n",
    "stride=300\n",
    "\n",
    "X=[]\n",
    "Y=[]\n",
    "\n",
    "\n",
    "for k in df['fault'].unique():\n",
    "    \n",
    "    df_temp_2 = df[df['fault']==k]\n",
    "    \n",
    "    for i in np.arange(0,len(df_temp_2)-(win_len),stride):\n",
    "        temp = df_temp_2.iloc[i:i+win_len,:-1].values\n",
    "        temp = temp.reshape((1,-1))\n",
    "        X.append(temp)\n",
    "        Y.append(df_temp_2.iloc[i+win_len,-1])\n",
    "    \n",
    "X=np.array(X)\n",
    "X=X.reshape((X.shape[0],-1,1))\n",
    "#X = np.repeat(X, 3, axis=3) # To repeat into 3 chanel format\n",
    "\n",
    "\n",
    "Y=np.array(Y)\n",
    "encoder= LabelEncoder()\n",
    "encoder.fit(Y)\n",
    "encoded_Y = encoder.transform(Y)\n",
    "OHE_Y = to_categorical(encoded_Y)"
   ]
  },
  {
   "cell_type": "code",
   "execution_count": 4,
   "id": "06cef386",
   "metadata": {},
   "outputs": [
    {
     "data": {
      "text/plain": "(9246, 784, 1)"
     },
     "execution_count": 4,
     "metadata": {},
     "output_type": "execute_result"
    }
   ],
   "source": [
    "X.shape"
   ]
  },
  {
   "cell_type": "code",
   "execution_count": 5,
   "id": "3efdc769",
   "metadata": {},
   "outputs": [],
   "source": [
    "from sklearn.model_selection import train_test_split\n",
    "X_train,X_test,y_train,y_test = train_test_split(X,OHE_Y,test_size=0.3,shuffle=True)\n"
   ]
  },
  {
   "cell_type": "code",
   "execution_count": 6,
   "id": "861daf3e",
   "metadata": {},
   "outputs": [
    {
     "name": "stdout",
     "output_type": "stream",
     "text": [
      "Model: \"sequential\"\n",
      "_________________________________________________________________\n",
      " Layer (type)                Output Shape              Param #   \n",
      "=================================================================\n",
      " conv1d (Conv1D)             (None, 685, 64)           6464      \n",
      "                                                                 \n",
      " conv1d_1 (Conv1D)           (None, 636, 32)           102432    \n",
      "                                                                 \n",
      " max_pooling1d (MaxPooling1D  (None, 159, 32)          0         \n",
      " )                                                               \n",
      "                                                                 \n",
      " flatten (Flatten)           (None, 5088)              0         \n",
      "                                                                 \n",
      " dense (Dense)               (None, 100)               508900    \n",
      "                                                                 \n",
      " dense_1 (Dense)             (None, 14)                1414      \n",
      "                                                                 \n",
      "=================================================================\n",
      "Total params: 619,210\n",
      "Trainable params: 619,210\n",
      "Non-trainable params: 0\n",
      "_________________________________________________________________\n"
     ]
    }
   ],
   "source": [
    "from tensorflow.keras.models import Sequential,Model\n",
    "from tensorflow.keras.layers import Input,Dense, Dropout, Flatten\n",
    "from tensorflow.keras.layers import Conv2D, MaxPooling2D,Conv1D,MaxPooling1D\n",
    "\n",
    "\n",
    "\n",
    "# from tensorflow.keras.models import load_model\n",
    "# cnn_model = load_model(r'H:\\Gear Fault\\Trained Model\\CNN_model_gear.h5')\n",
    "\n",
    "\n",
    "\n",
    "no_classes = len(df['fault'].unique())\n",
    "\n",
    "cnn_model = Sequential()\n",
    "cnn_model.add(Conv1D(filters=64, kernel_size=100, activation='relu', input_shape=(X.shape[1],X.shape[2])))\n",
    "cnn_model.add(Conv1D(filters=32, kernel_size=50, activation='relu'))\n",
    "\n",
    "cnn_model.add(MaxPooling1D(pool_size=4))\n",
    "cnn_model.add(Flatten())\n",
    "cnn_model.add(Dense(100, activation='relu'))\n",
    "\n",
    "            \n",
    "cnn_model.add(Dense(no_classes, activation='softmax'))\n",
    "\n",
    "cnn_model.summary()\n",
    "\n",
    "cnn_model.compile(loss='categorical_crossentropy', optimizer='adam',metrics=['accuracy'])"
   ]
  },
  {
   "cell_type": "code",
   "execution_count": 7,
   "id": "4e5803f3",
   "metadata": {},
   "outputs": [
    {
     "name": "stdout",
     "output_type": "stream",
     "text": [
      "Epoch 1/10\n",
      "22/22 [==============================] - 25s 1s/step - loss: 1.7222 - accuracy: 0.3982 - val_loss: 1.1466 - val_accuracy: 0.6208\n",
      "Epoch 2/10\n",
      "22/22 [==============================] - 25s 1s/step - loss: 0.8041 - accuracy: 0.7466 - val_loss: 0.4991 - val_accuracy: 0.8713\n",
      "Epoch 3/10\n",
      "22/22 [==============================] - 24s 1s/step - loss: 0.3017 - accuracy: 0.9121 - val_loss: 0.2518 - val_accuracy: 0.9128\n",
      "Epoch 4/10\n",
      "22/22 [==============================] - 25s 1s/step - loss: 0.3176 - accuracy: 0.9093 - val_loss: 0.2400 - val_accuracy: 0.9326\n",
      "Epoch 5/10\n",
      "22/22 [==============================] - 24s 1s/step - loss: 0.1143 - accuracy: 0.9589 - val_loss: 0.0791 - val_accuracy: 0.9769\n",
      "Epoch 6/10\n",
      "22/22 [==============================] - 25s 1s/step - loss: 0.0554 - accuracy: 0.9845 - val_loss: 0.0369 - val_accuracy: 0.9921\n",
      "Epoch 7/10\n",
      "22/22 [==============================] - 26s 1s/step - loss: 0.0247 - accuracy: 0.9955 - val_loss: 0.0286 - val_accuracy: 0.9935\n",
      "Epoch 8/10\n",
      "22/22 [==============================] - 27s 1s/step - loss: 0.0159 - accuracy: 0.9983 - val_loss: 0.0212 - val_accuracy: 0.9939\n",
      "Epoch 9/10\n",
      "22/22 [==============================] - 28s 1s/step - loss: 0.0104 - accuracy: 0.9985 - val_loss: 0.0161 - val_accuracy: 0.9957\n",
      "Epoch 10/10\n",
      "22/22 [==============================] - 24s 1s/step - loss: 0.0132 - accuracy: 0.9978 - val_loss: 0.0126 - val_accuracy: 0.9971\n"
     ]
    }
   ],
   "source": [
    "batch_size =300\n",
    "epochs = 10\n",
    "history = cnn_model.fit(X_train, y_train, batch_size=batch_size,epochs=epochs,verbose=1,validation_data=(X_test,y_test),shuffle=True)"
   ]
  },
  {
   "cell_type": "code",
   "execution_count": 8,
   "id": "ff14d204",
   "metadata": {},
   "outputs": [
    {
     "data": {
      "text/plain": "<Figure size 720x720 with 2 Axes>",
      "image/png": "[encoded data removed]"
     },
     "metadata": {
      "needs_background": "light"
     },
     "output_type": "display_data"
    }
   ],
   "source": [
    "def inv_Transform_result(y_pred):    \n",
    "    y_pred = y_pred.argmax(axis=1)\n",
    "    y_pred = encoder.inverse_transform(y_pred)\n",
    "    return y_pred\n",
    "\n",
    "\n",
    "\n",
    "y_pred=cnn_model.predict(X_test)\n",
    "\n",
    "\n",
    "Y_pred=inv_Transform_result(y_pred)\n",
    "Y_test = inv_Transform_result(y_test)\n",
    "\n",
    "\n",
    "\n",
    "\n",
    "from sklearn.metrics import confusion_matrix\n",
    "\n",
    "\n",
    "plt.figure(figsize=(10,10))\n",
    "cm = confusion_matrix(Y_test, Y_pred,normalize='true')\n",
    "f = sns.heatmap(cm, annot=True,xticklabels=encoder.classes_,yticklabels=encoder.classes_)\n",
    "plt.show()"
   ]
  },
  {
   "cell_type": "code",
   "execution_count": 9,
   "id": "1d1715f1",
   "metadata": {},
   "outputs": [],
   "source": [
    "dummy_cnn = Model(inputs=cnn_model.input,outputs=cnn_model.layers[5].output)\n",
    "y_viz = dummy_cnn.predict(X_train)"
   ]
  },
  {
   "cell_type": "code",
   "execution_count": 10,
   "id": "c81bccd7",
   "metadata": {},
   "outputs": [
    {
     "name": "stdout",
     "output_type": "stream",
     "text": [
      "[t-SNE] Computing 121 nearest neighbors...\n",
      "[t-SNE] Indexed 6472 samples in 0.020s...\n",
      "[t-SNE] Computed neighbors for 6472 samples in 0.334s...\n",
      "[t-SNE] Computed conditional probabilities for sample 1000 / 6472\n",
      "[t-SNE] Computed conditional probabilities for sample 2000 / 6472\n",
      "[t-SNE] Computed conditional probabilities for sample 3000 / 6472\n",
      "[t-SNE] Computed conditional probabilities for sample 4000 / 6472\n",
      "[t-SNE] Computed conditional probabilities for sample 5000 / 6472\n",
      "[t-SNE] Computed conditional probabilities for sample 6000 / 6472\n",
      "[t-SNE] Computed conditional probabilities for sample 6472 / 6472\n",
      "[t-SNE] Mean sigma: 0.000000\n"
     ]
    },
    {
     "ename": "UFuncTypeError",
     "evalue": "ufunc 'multiply' did not contain a loop with signature matching types (dtype('<U32'), dtype('<U32')) -> dtype('<U32')",
     "output_type": "error",
     "traceback": [
      "\u001B[1;31m---------------------------------------------------------------------------\u001B[0m",
      "\u001B[1;31mUFuncTypeError\u001B[0m                            Traceback (most recent call last)",
      "\u001B[1;32m<ipython-input-10-984a0b6c6c20>\u001B[0m in \u001B[0;36m<module>\u001B[1;34m\u001B[0m\n\u001B[0;32m      1\u001B[0m \u001B[1;32mfrom\u001B[0m \u001B[0msklearn\u001B[0m\u001B[1;33m.\u001B[0m\u001B[0mmanifold\u001B[0m \u001B[1;32mimport\u001B[0m \u001B[0mTSNE\u001B[0m\u001B[1;33m\u001B[0m\u001B[1;33m\u001B[0m\u001B[0m\n\u001B[0;32m      2\u001B[0m \u001B[1;33m\u001B[0m\u001B[0m\n\u001B[1;32m----> 3\u001B[1;33m \u001B[0mX_t_sne\u001B[0m \u001B[1;33m=\u001B[0m \u001B[0mTSNE\u001B[0m\u001B[1;33m(\u001B[0m\u001B[0mn_components\u001B[0m\u001B[1;33m=\u001B[0m\u001B[1;36m2\u001B[0m\u001B[1;33m,\u001B[0m \u001B[0mlearning_rate\u001B[0m\u001B[1;33m=\u001B[0m\u001B[1;34m'auto'\u001B[0m\u001B[1;33m,\u001B[0m\u001B[0mverbose\u001B[0m\u001B[1;33m=\u001B[0m\u001B[1;36m1\u001B[0m\u001B[1;33m,\u001B[0m \u001B[0mperplexity\u001B[0m\u001B[1;33m=\u001B[0m\u001B[1;36m40\u001B[0m\u001B[1;33m,\u001B[0m \u001B[0mn_iter\u001B[0m\u001B[1;33m=\u001B[0m\u001B[1;36m300\u001B[0m\u001B[1;33m)\u001B[0m\u001B[1;33m.\u001B[0m\u001B[0mfit_transform\u001B[0m\u001B[1;33m(\u001B[0m\u001B[0my_viz\u001B[0m\u001B[1;33m)\u001B[0m\u001B[1;33m\u001B[0m\u001B[1;33m\u001B[0m\u001B[0m\n\u001B[0m\u001B[0;32m      4\u001B[0m \u001B[1;33m\u001B[0m\u001B[0m\n\u001B[0;32m      5\u001B[0m \u001B[0mtSNEdf\u001B[0m \u001B[1;33m=\u001B[0m \u001B[0mpd\u001B[0m\u001B[1;33m.\u001B[0m\u001B[0mDataFrame\u001B[0m\u001B[1;33m(\u001B[0m\u001B[0mdata\u001B[0m \u001B[1;33m=\u001B[0m \u001B[0mX_t_sne\u001B[0m\u001B[1;33m,\u001B[0m \u001B[0mcolumns\u001B[0m \u001B[1;33m=\u001B[0m \u001B[1;33m[\u001B[0m\u001B[1;34m'T-SNE component 1'\u001B[0m\u001B[1;33m,\u001B[0m \u001B[1;34m'T-SNE component 2'\u001B[0m\u001B[1;33m]\u001B[0m\u001B[1;33m)\u001B[0m\u001B[1;33m\u001B[0m\u001B[1;33m\u001B[0m\u001B[0m\n",
      "\u001B[1;32m~\\anaconda3\\lib\\site-packages\\sklearn\\manifold\\_t_sne.py\u001B[0m in \u001B[0;36mfit_transform\u001B[1;34m(self, X, y)\u001B[0m\n\u001B[0;32m    930\u001B[0m             \u001B[0mEmbedding\u001B[0m \u001B[0mof\u001B[0m \u001B[0mthe\u001B[0m \u001B[0mtraining\u001B[0m \u001B[0mdata\u001B[0m \u001B[1;32min\u001B[0m \u001B[0mlow\u001B[0m\u001B[1;33m-\u001B[0m\u001B[0mdimensional\u001B[0m \u001B[0mspace\u001B[0m\u001B[1;33m.\u001B[0m\u001B[1;33m\u001B[0m\u001B[1;33m\u001B[0m\u001B[0m\n\u001B[0;32m    931\u001B[0m         \"\"\"\n\u001B[1;32m--> 932\u001B[1;33m         \u001B[0membedding\u001B[0m \u001B[1;33m=\u001B[0m \u001B[0mself\u001B[0m\u001B[1;33m.\u001B[0m\u001B[0m_fit\u001B[0m\u001B[1;33m(\u001B[0m\u001B[0mX\u001B[0m\u001B[1;33m)\u001B[0m\u001B[1;33m\u001B[0m\u001B[1;33m\u001B[0m\u001B[0m\n\u001B[0m\u001B[0;32m    933\u001B[0m         \u001B[0mself\u001B[0m\u001B[1;33m.\u001B[0m\u001B[0membedding_\u001B[0m \u001B[1;33m=\u001B[0m \u001B[0membedding\u001B[0m\u001B[1;33m\u001B[0m\u001B[1;33m\u001B[0m\u001B[0m\n\u001B[0;32m    934\u001B[0m         \u001B[1;32mreturn\u001B[0m \u001B[0mself\u001B[0m\u001B[1;33m.\u001B[0m\u001B[0membedding_\u001B[0m\u001B[1;33m\u001B[0m\u001B[1;33m\u001B[0m\u001B[0m\n",
      "\u001B[1;32m~\\anaconda3\\lib\\site-packages\\sklearn\\manifold\\_t_sne.py\u001B[0m in \u001B[0;36m_fit\u001B[1;34m(self, X, skip_num_points)\u001B[0m\n\u001B[0;32m    839\u001B[0m         \u001B[0mdegrees_of_freedom\u001B[0m \u001B[1;33m=\u001B[0m \u001B[0mmax\u001B[0m\u001B[1;33m(\u001B[0m\u001B[0mself\u001B[0m\u001B[1;33m.\u001B[0m\u001B[0mn_components\u001B[0m \u001B[1;33m-\u001B[0m \u001B[1;36m1\u001B[0m\u001B[1;33m,\u001B[0m \u001B[1;36m1\u001B[0m\u001B[1;33m)\u001B[0m\u001B[1;33m\u001B[0m\u001B[1;33m\u001B[0m\u001B[0m\n\u001B[0;32m    840\u001B[0m \u001B[1;33m\u001B[0m\u001B[0m\n\u001B[1;32m--> 841\u001B[1;33m         return self._tsne(P, degrees_of_freedom, n_samples,\n\u001B[0m\u001B[0;32m    842\u001B[0m                           \u001B[0mX_embedded\u001B[0m\u001B[1;33m=\u001B[0m\u001B[0mX_embedded\u001B[0m\u001B[1;33m,\u001B[0m\u001B[1;33m\u001B[0m\u001B[1;33m\u001B[0m\u001B[0m\n\u001B[0;32m    843\u001B[0m                           \u001B[0mneighbors\u001B[0m\u001B[1;33m=\u001B[0m\u001B[0mneighbors_nn\u001B[0m\u001B[1;33m,\u001B[0m\u001B[1;33m\u001B[0m\u001B[1;33m\u001B[0m\u001B[0m\n",
      "\u001B[1;32m~\\anaconda3\\lib\\site-packages\\sklearn\\manifold\\_t_sne.py\u001B[0m in \u001B[0;36m_tsne\u001B[1;34m(self, P, degrees_of_freedom, n_samples, X_embedded, neighbors, skip_num_points)\u001B[0m\n\u001B[0;32m    880\u001B[0m         \u001B[1;31m# higher learning rate controlled via the early exaggeration parameter\u001B[0m\u001B[1;33m\u001B[0m\u001B[1;33m\u001B[0m\u001B[1;33m\u001B[0m\u001B[0m\n\u001B[0;32m    881\u001B[0m         \u001B[0mP\u001B[0m \u001B[1;33m*=\u001B[0m \u001B[0mself\u001B[0m\u001B[1;33m.\u001B[0m\u001B[0mearly_exaggeration\u001B[0m\u001B[1;33m\u001B[0m\u001B[1;33m\u001B[0m\u001B[0m\n\u001B[1;32m--> 882\u001B[1;33m         params, kl_divergence, it = _gradient_descent(obj_func, params,\n\u001B[0m\u001B[0;32m    883\u001B[0m                                                       **opt_args)\n\u001B[0;32m    884\u001B[0m         \u001B[1;32mif\u001B[0m \u001B[0mself\u001B[0m\u001B[1;33m.\u001B[0m\u001B[0mverbose\u001B[0m\u001B[1;33m:\u001B[0m\u001B[1;33m\u001B[0m\u001B[1;33m\u001B[0m\u001B[0m\n",
      "\u001B[1;32m~\\anaconda3\\lib\\site-packages\\sklearn\\manifold\\_t_sne.py\u001B[0m in \u001B[0;36m_gradient_descent\u001B[1;34m(objective, p0, it, n_iter, n_iter_check, n_iter_without_progress, momentum, learning_rate, min_gain, min_grad_norm, verbose, args, kwargs)\u001B[0m\n\u001B[0;32m    370\u001B[0m         \u001B[0mnp\u001B[0m\u001B[1;33m.\u001B[0m\u001B[0mclip\u001B[0m\u001B[1;33m(\u001B[0m\u001B[0mgains\u001B[0m\u001B[1;33m,\u001B[0m \u001B[0mmin_gain\u001B[0m\u001B[1;33m,\u001B[0m \u001B[0mnp\u001B[0m\u001B[1;33m.\u001B[0m\u001B[0minf\u001B[0m\u001B[1;33m,\u001B[0m \u001B[0mout\u001B[0m\u001B[1;33m=\u001B[0m\u001B[0mgains\u001B[0m\u001B[1;33m)\u001B[0m\u001B[1;33m\u001B[0m\u001B[1;33m\u001B[0m\u001B[0m\n\u001B[0;32m    371\u001B[0m         \u001B[0mgrad\u001B[0m \u001B[1;33m*=\u001B[0m \u001B[0mgains\u001B[0m\u001B[1;33m\u001B[0m\u001B[1;33m\u001B[0m\u001B[0m\n\u001B[1;32m--> 372\u001B[1;33m         \u001B[0mupdate\u001B[0m \u001B[1;33m=\u001B[0m \u001B[0mmomentum\u001B[0m \u001B[1;33m*\u001B[0m \u001B[0mupdate\u001B[0m \u001B[1;33m-\u001B[0m \u001B[0mlearning_rate\u001B[0m \u001B[1;33m*\u001B[0m \u001B[0mgrad\u001B[0m\u001B[1;33m\u001B[0m\u001B[1;33m\u001B[0m\u001B[0m\n\u001B[0m\u001B[0;32m    373\u001B[0m         \u001B[0mp\u001B[0m \u001B[1;33m+=\u001B[0m \u001B[0mupdate\u001B[0m\u001B[1;33m\u001B[0m\u001B[1;33m\u001B[0m\u001B[0m\n\u001B[0;32m    374\u001B[0m \u001B[1;33m\u001B[0m\u001B[0m\n",
      "\u001B[1;31mUFuncTypeError\u001B[0m: ufunc 'multiply' did not contain a loop with signature matching types (dtype('<U32'), dtype('<U32')) -> dtype('<U32')"
     ]
    }
   ],
   "source": [
    "from sklearn.manifold import TSNE\n",
    "\n",
    "X_t_sne = TSNE(n_components=2, learning_rate='auto',verbose=1, perplexity=40, n_iter=300).fit_transform(y_viz)\n",
    "\n",
    "tSNEdf = pd.DataFrame(data = X_t_sne, columns = ['T-SNE component 1', 'T-SNE component 2'])\n",
    "\n",
    "tSNEdf['Fault']=inv_Transform_result(y_train)\n",
    "\n",
    "\n",
    "# Plot the PC-1 and PC-2\n",
    "fig, ax = plt.subplots(figsize=(10,10))\n",
    "sns.scatterplot(x=tSNEdf['T-SNE component 1'],y=tSNEdf['T-SNE component 2'],hue='Fault',\n",
    "    data=tSNEdf,\n",
    "    legend=\"full\",\n",
    "    alpha=0.3)\n",
    "plt.show()"
   ]
  },
  {
   "cell_type": "code",
   "execution_count": null,
   "id": "b443d11b",
   "metadata": {},
   "outputs": [],
   "source": []
  }
 ],
 "metadata": {
  "kernelspec": {
   "name": "python3",
   "language": "python",
   "display_name": "Python 3"
  },
  "language_info": {
   "codemirror_mode": {
    "name": "ipython",
    "version": 3
   },
   "file_extension": ".py",
   "mimetype": "text/x-python",
   "name": "python",
   "nbconvert_exporter": "python",
   "pygments_lexer": "ipython3",
   "version": "3.8.12"
  }
 },
 "nbformat": 4,
 "nbformat_minor": 5
}